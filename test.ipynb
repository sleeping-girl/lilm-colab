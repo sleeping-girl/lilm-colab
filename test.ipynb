{
  "nbformat": 4,
  "nbformat_minor": 0,
  "metadata": {
    "colab": {
      "name": "test.ipynb",
      "provenance": [],
      "authorship_tag": "ABX9TyNQL4LtvYZmQOVKBPfzkdsz",
      "include_colab_link": true
    },
    "kernelspec": {
      "name": "python3",
      "display_name": "Python 3"
    },
    "language_info": {
      "name": "python"
    }
  },
  "cells": [
    {
      "cell_type": "markdown",
      "metadata": {
        "id": "view-in-github",
        "colab_type": "text"
      },
      "source": [
        "<a href=\"https://colab.research.google.com/github/sleeping-girl/lilm-colab/blob/main/test.ipynb\" target=\"_parent\"><img src=\"https://colab.research.google.com/assets/colab-badge.svg\" alt=\"Open In Colab\"/></a>"
      ]
    },
    {
      "cell_type": "markdown",
      "source": [
        ""
      ],
      "metadata": {
        "id": "wY4adNQobaod"
      }
    },
    {
      "cell_type": "code",
      "source": [
        "#@title Default title text\n",
        "text = \"\" #@param {type:\"string\"}\n"
      ],
      "metadata": {
        "id": "W9dm-TZwbb0z"
      },
      "execution_count": 1,
      "outputs": []
    }
  ]
}